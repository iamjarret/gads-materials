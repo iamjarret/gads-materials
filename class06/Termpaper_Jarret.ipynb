{
 "metadata": {
  "name": "",
  "signature": "sha256:5cf2ed4abb9209afb879272653d699659e207466ac183e19c98a9369376347b2"
 },
 "nbformat": 3,
 "nbformat_minor": 0,
 "worksheets": [
  {
   "cells": [
    {
     "cell_type": "heading",
     "level": 1,
     "metadata": {},
     "source": [
      "Categorizing Rook and Pawn Vs Rook Endgames"
     ]
    },
    {
     "cell_type": "code",
     "collapsed": false,
     "input": [
      "from IPython.display import Image"
     ],
     "language": "python",
     "metadata": {},
     "outputs": [],
     "prompt_number": 2
    },
    {
     "cell_type": "code",
     "collapsed": false,
     "input": [
      "Image(url='http://www.mark-weeks.com/aboutcom/images/aa03l13c.gif')"
     ],
     "language": "python",
     "metadata": {},
     "outputs": [
      {
       "html": [
        "<img src=\"http://www.mark-weeks.com/aboutcom/images/aa03l13c.gif\"/>"
       ],
       "metadata": {},
       "output_type": "pyout",
       "prompt_number": 3,
       "text": [
        "<IPython.core.display.Image at 0x459e850>"
       ]
      }
     ],
     "prompt_number": 3
    },
    {
     "cell_type": "heading",
     "level": 3,
     "metadata": {},
     "source": [
      "White wins with extra material"
     ]
    },
    {
     "cell_type": "code",
     "collapsed": false,
     "input": [
      "Image(url='http://www.mark-weeks.com/aboutcom/images/aa03l13d.gif')"
     ],
     "language": "python",
     "metadata": {},
     "outputs": [
      {
       "html": [
        "<img src=\"http://www.mark-weeks.com/aboutcom/images/aa03l13d.gif\"/>"
       ],
       "metadata": {},
       "output_type": "pyout",
       "prompt_number": 4,
       "text": [
        "<IPython.core.display.Image at 0x459e890>"
       ]
      }
     ],
     "prompt_number": 4
    },
    {
     "cell_type": "heading",
     "level": 3,
     "metadata": {},
     "source": [
      "Similar position (one file over) yet black can draw!"
     ]
    },
    {
     "cell_type": "code",
     "collapsed": false,
     "input": [
      "position1 = {'Draw':0,\n",
      "               'whiterook_file': 5,\n",
      "               'whiterook_rank': 1,\n",
      "               'blackrook_file': 1,\n",
      "               'blackrook_rank': 2,\n",
      "               'whiteking_file': 4,\n",
      "               'whitefking_rank': 8,\n",
      "               'blackking_file': 6,\n",
      "               'blackking_rank': 7,\n",
      "               'whitepawn_file': 4,\n",
      "               'whitepawn_rank': 7}"
     ],
     "language": "python",
     "metadata": {},
     "outputs": [],
     "prompt_number": 6
    },
    {
     "cell_type": "code",
     "collapsed": false,
     "input": [
      "position2 = {'Draw':1,\n",
      "               'whiterook_file': 6,\n",
      "               'whiterook_rank': 1,\n",
      "               'blackrook_file': 1,\n",
      "               'blackrook_rank': 2,\n",
      "               'whiteking_file': 5,\n",
      "               'whitefking_rank': 8,\n",
      "               'blackking_file': 7,\n",
      "               'blackking_rank': 7,\n",
      "               'whitepawn_file': 5,\n",
      "               'whitepawn_rank': 7}"
     ],
     "language": "python",
     "metadata": {},
     "outputs": [],
     "prompt_number": 7
    },
    {
     "cell_type": "code",
     "collapsed": false,
     "input": [],
     "language": "python",
     "metadata": {},
     "outputs": []
    },
    {
     "cell_type": "code",
     "collapsed": false,
     "input": [
      "import pandas\n",
      "rookendings_training = pandas.DataFrame.from_dict([position1, position2])"
     ],
     "language": "python",
     "metadata": {},
     "outputs": [],
     "prompt_number": 13
    },
    {
     "cell_type": "code",
     "collapsed": false,
     "input": [
      "rookendings_training"
     ],
     "language": "python",
     "metadata": {},
     "outputs": [
      {
       "html": [
        "<div style=\"max-height:1000px;max-width:1500px;overflow:auto;\">\n",
        "<table border=\"1\" class=\"dataframe\">\n",
        "  <thead>\n",
        "    <tr style=\"text-align: right;\">\n",
        "      <th></th>\n",
        "      <th>Draw</th>\n",
        "      <th>blackking_file</th>\n",
        "      <th>blackking_rank</th>\n",
        "      <th>blackrook_file</th>\n",
        "      <th>blackrook_rank</th>\n",
        "      <th>whitefking_rank</th>\n",
        "      <th>whiteking_file</th>\n",
        "      <th>whitepawn_file</th>\n",
        "      <th>whitepawn_rank</th>\n",
        "      <th>whiterook_file</th>\n",
        "      <th>whiterook_rank</th>\n",
        "    </tr>\n",
        "  </thead>\n",
        "  <tbody>\n",
        "    <tr>\n",
        "      <th>0</th>\n",
        "      <td> 0</td>\n",
        "      <td> 6</td>\n",
        "      <td> 7</td>\n",
        "      <td> 1</td>\n",
        "      <td> 2</td>\n",
        "      <td> 8</td>\n",
        "      <td> 4</td>\n",
        "      <td> 4</td>\n",
        "      <td> 7</td>\n",
        "      <td> 5</td>\n",
        "      <td> 1</td>\n",
        "    </tr>\n",
        "    <tr>\n",
        "      <th>1</th>\n",
        "      <td> 1</td>\n",
        "      <td> 7</td>\n",
        "      <td> 7</td>\n",
        "      <td> 1</td>\n",
        "      <td> 2</td>\n",
        "      <td> 8</td>\n",
        "      <td> 5</td>\n",
        "      <td> 5</td>\n",
        "      <td> 7</td>\n",
        "      <td> 6</td>\n",
        "      <td> 1</td>\n",
        "    </tr>\n",
        "  </tbody>\n",
        "</table>\n",
        "</div>"
       ],
       "metadata": {},
       "output_type": "pyout",
       "prompt_number": 14,
       "text": [
        "   Draw  blackking_file  blackking_rank  blackrook_file  blackrook_rank  \\\n",
        "0     0               6               7               1               2   \n",
        "1     1               7               7               1               2   \n",
        "\n",
        "   whitefking_rank  whiteking_file  whitepawn_file  whitepawn_rank  \\\n",
        "0                8               4               4               7   \n",
        "1                8               5               5               7   \n",
        "\n",
        "   whiterook_file  whiterook_rank  \n",
        "0               5               1  \n",
        "1               6               1  "
       ]
      }
     ],
     "prompt_number": 14
    },
    {
     "cell_type": "heading",
     "level": 3,
     "metadata": {},
     "source": []
    },
    {
     "cell_type": "heading",
     "level": 3,
     "metadata": {},
     "source": [
      "Goal is twofold:\n",
      "(1) develop a strongly predictive model \n",
      "(2) find positions that are wrongly categorized"
     ]
    },
    {
     "cell_type": "code",
     "collapsed": false,
     "input": [],
     "language": "python",
     "metadata": {},
     "outputs": []
    },
    {
     "cell_type": "code",
     "collapsed": false,
     "input": [],
     "language": "python",
     "metadata": {},
     "outputs": []
    },
    {
     "cell_type": "heading",
     "level": 3,
     "metadata": {},
     "source": [
      "Smyslov_vs_Donner_1967.pgn"
     ]
    },
    {
     "cell_type": "markdown",
     "metadata": {},
     "source": [
      "[Event \"Palma de Mallorca\"]\n",
      "[Site \"Palma ESP\"]\n",
      "[Date \"1967.11.30\"]\n",
      "[EventDate \"1967.??.??\"]\n",
      "[Round \"4\"]\n",
      "[Result \"0-1\"]\n",
      "[White \"Vasily Smyslov\"]\n",
      "[Black \"Jan Hein Donner\"]\n",
      "[ECO \"B17\"]\n",
      "[WhiteElo \"?\"]\n",
      "[BlackElo \"?\"]\n",
      "[PlyCount \"146\"]\n",
      "\n",
      "1. e4 c6 2. d4 d5 3. Nc3 dxe4 4. Nxe4 Nd7 5. Bc4 Ngf6 6. Ng5\n",
      "e6 7. Qe2 Nb6 8. Bd3 h6 9. N5f3 c5 10. dxc5 Bxc5 11. Ne5 Nbd7\n",
      "12. Ngf3 Nxe5 13. Nxe5 O-O 14. O-O b6 15. Rd1 Qe7 16. b4 Bd6\n",
      "17. Nc6 Qc7 18. b5 Nd5 19. Bb2 Bxh2+ 20. Kh1 Bd6 21. Be4 Bb7\n",
      "22. Bxd5 exd5 23. Qg4 f6 24. Qe6+ Kh8 25. Rxd5 Bxc6 26. bxc6\n",
      "Bc5 27. Bd4 Bxd4 28. Rxd4 Rac8 29. Rd6 Rfe8 30. Qd5 Re5\n",
      "31. Qd4 Rce8 32. f4 Rc5 33. Rd1 Qf7 34. Qd3 Qh5+ 35. Kg1 Qg4\n",
      "36. Qf1 Re2 37. R6d2 Rxd2 38. Rxd2 Rxc6 39. Rd8+ Kh7 40. Qd3+\n",
      "f5 41. Rd5 Rg6 42. Qd2 Re6 43. Re5 Rc6 44. Qd3 Rg6 45. Qd2 Rc6\n",
      "46. Qd3 Qxf4 47. Rxf5 Qc4 48. Rf7+ Qxd3 49. cxd3 a5 50. Rd7 a4\n",
      "51. Ra7 b5 52. Rb7 Rd6 53. Rxb5 Rxd3 54. Rb2 Ra3 55. Kh2 h5\n",
      "56. g3 g5 57. Kg2 Rd3 58. Rb4 a3 59. g4 hxg4 60. Rxg4 Kg6\n",
      "61. Ra4 Rd2+ 62. Kg3 Rxa2 63. Ra5 Ra1 64. Kg2 Kf6 65. Kh2 g4\n",
      "66. Ra4 Ke5 67. Rxg4 Ra2+ 68. Kh3 Rb2 69. Ra4 a2 70. Kg3 Kd5\n",
      "71. Kf3 Kc5 72. Ke3 Kb5 73. Ra8 Kc4 0-1"
     ]
    },
    {
     "cell_type": "code",
     "collapsed": false,
     "input": [],
     "language": "python",
     "metadata": {},
     "outputs": []
    },
    {
     "cell_type": "code",
     "collapsed": false,
     "input": [
      "def convert_from_pgn(dict):\n",
      "    #dificulty will be in implementing this function\n",
      "    return"
     ],
     "language": "python",
     "metadata": {},
     "outputs": [],
     "prompt_number": 22
    },
    {
     "cell_type": "code",
     "collapsed": false,
     "input": [
      "testset_1 = {'Draw': 0,\n",
      "                    'PGNFILE': 'Smyslov_vs_Donner_1967.pgn'}\n",
      "testset_1_converted = convert_from_pgn(testset_1)\n",
      "print (testset_1_converted, position1)"
     ],
     "language": "python",
     "metadata": {},
     "outputs": [
      {
       "output_type": "stream",
       "stream": "stdout",
       "text": [
        "(None, {'whiterook_rank': 1, 'blackrook_rank': 2, 'blackrook_file': 1, 'whiterook_file': 5, 'whitepawn_file': 4, 'whitepawn_rank': 7, 'Draw': 0, 'blackking_file': 6, 'whitefking_rank': 8, 'whiteking_file': 4, 'blackking_rank': 7})\n"
       ]
      }
     ],
     "prompt_number": 23
    },
    {
     "cell_type": "code",
     "collapsed": false,
     "input": [],
     "language": "python",
     "metadata": {},
     "outputs": []
    }
   ],
   "metadata": {}
  }
 ]
}