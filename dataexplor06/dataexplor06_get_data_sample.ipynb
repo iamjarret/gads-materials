{
 "metadata": {
  "name": "",
  "signature": "sha256:7f900c19a9bfe3460dd0472cb9154ce0d2672632c20fd8cbe38f961d9f8ebcef"
 },
 "nbformat": 3,
 "nbformat_minor": 0,
 "worksheets": [
  {
   "cells": [
    {
     "cell_type": "code",
     "collapsed": false,
     "input": [
      "from IPython.display import Image"
     ],
     "language": "python",
     "metadata": {},
     "outputs": [],
     "prompt_number": 13
    },
    {
     "cell_type": "code",
     "collapsed": false,
     "input": [
      "Image(url=\"https://www.movieposter.com/posters/archive/main/107/MPW-53648\")"
     ],
     "language": "python",
     "metadata": {},
     "outputs": [
      {
       "html": [
        "<img src=\"https://www.movieposter.com/posters/archive/main/107/MPW-53648\"/>"
       ],
       "metadata": {},
       "output_type": "pyout",
       "prompt_number": 17,
       "text": [
        "<IPython.core.display.Image at 0x47a3c10>"
       ]
      }
     ],
     "prompt_number": 17
    },
    {
     "cell_type": "code",
     "collapsed": false,
     "input": [
      "from bs4 import BeautifulSoup\n",
      "import requests\n",
      "url=\"http://www.cs.cmu.edu/~./gdead/72.html\"\n",
      "website = requests.get(url)\n",
      "soup=BeautifulSoup(website.text)"
     ],
     "language": "python",
     "metadata": {},
     "outputs": [],
     "prompt_number": 10
    },
    {
     "cell_type": "code",
     "collapsed": false,
     "input": [
      "soup.prettify()"
     ],
     "language": "python",
     "metadata": {},
     "outputs": [
      {
       "metadata": {},
       "output_type": "pyout",
       "prompt_number": 11,
       "text": [
        "u'<html>\\n <head>\\n  <title>\\n   Grateful Dead Setlists: 1972\\n  </title>\\n </head>\\n <body>\\n  <h1>\\n   Grateful Dead Setlists: 1972\\n  </h1>\\n  <ul>\\n   <li>\\n    <a href=\"dead-sets/72/1-2-72.txt\">\\n     Winterland Arena, San Francisco, CA (1/2/72)\\n    </a>\\n   </li>\\n   <li>\\n    <a href=\"dead-sets/72/3-5-72.txt\">\\n     Winteriand Arena, San Francisco, CA (3/5/72)\\n    </a>\\n   </li>\\n   <li>\\n    <a href=\"dead-sets/72/3-21-72.txt\">\\n     Academy of Music, New York, NY (3/21/72)\\n    </a>\\n   </li>\\n   <li>\\n    <a href=\"dead-sets/72/3-22-72.txt\">\\n     Academy of Music, New York, NY (3/22/72)\\n    </a>\\n   </li>\\n   <li>\\n    <a href=\"dead-sets/72/3-23-72.txt\">\\n     Academy of Music, New York, NY (3/23/72)\\n    </a>\\n   </li>\\n   <li>\\n    <a href=\"dead-sets/72/3-25-72.txt\">\\n     Academy of Music, New York, NY (3/25/72)\\n    </a>\\n   </li>\\n   <li>\\n    <a href=\"dead-sets/72/3-26-72.txt\">\\n     Academy of Music, New York, NY (3/26/72)\\n    </a>\\n   </li>\\n   <li>\\n    <a href=\"dead-sets/72/3-27-72.txt\">\\n     Academy of Music, New York, NY (3/27/72)\\n    </a>\\n   </li>\\n   <li>\\n    <a href=\"dead-sets/72/3-28-72.txt\">\\n     Academy of Music, New York, NY (3/28/72)\\n    </a>\\n   </li>\\n   <li>\\n    <a href=\"dead-sets/72/4-7-72.txt\">\\n     Empire Pool, Wembley, XENG (4/7/72)\\n    </a>\\n   </li>\\n   <li>\\n    <a href=\"dead-sets/72/4-8-72.txt\">\\n     Empire Pool, Wembley, XENG (4/8/72)\\n    </a>\\n   </li>\\n   <li>\\n    <a href=\"dead-sets/72/4-11-72.txt\">\\n     City Hall, Newcastle, XENG (4/11/72)\\n    </a>\\n   </li>\\n   <li>\\n    <a href=\"dead-sets/72/4-14-72.txt\">\\n     Tivoii Theater, Copenhagen, XDEN (4/14/72)\\n    </a>\\n   </li>\\n   <li>\\n    <a href=\"dead-sets/72/4-15-72.txt\">\\n     Tivoli Theater, Copenhagen, XDEN (4/15/72)\\n    </a>\\n   </li>\\n   <li>\\n    <a href=\"dead-sets/72/4-16-72.txt\">\\n     Aarhus University, Aarhus, XDEN (4/16/72)\\n    </a>\\n   </li>\\n   <li>\\n    <a href=\"dead-sets/72/4-17-72.txt\">\\n     Tivoii Gardens, Copenhagen, XDEN (4/17/72)\\n    </a>\\n   </li>\\n   <li>\\n    <a href=\"dead-sets/72/4-21-72.txt\">\\n     Beat Club, Bremen, XWGER (4/21/72)\\n    </a>\\n   </li>\\n   <li>\\n    <a href=\"dead-sets/72/4-24-72.txt\">\\n     Rheinhalle, Dusseldorf, XWGER (4/24/72)\\n    </a>\\n   </li>\\n   <li>\\n    <a href=\"dead-sets/72/4-26-72.txt\">\\n     Jahrhundert Halle, Frankfurt, XWGER (4/26/72)\\n    </a>\\n   </li>\\n   <li>\\n    <a href=\"dead-sets/72/4-29-72.txt\">\\n     Musikhalle, Hamburg, XWGER (4/29/72)\\n    </a>\\n   </li>\\n   <li>\\n    <a href=\"dead-sets/72/5-3-72.txt\">\\n     Olympia Theater, Paris, XFRA (5/3/72)\\n    </a>\\n   </li>\\n   <li>\\n    <a href=\"dead-sets/72/5-4-72.txt\">\\n     Olympia Theater, Paris, XFRA (5/4/72)\\n    </a>\\n   </li>\\n   <li>\\n    <a href=\"dead-sets/72/5-7-72.txt\">\\n     Bickershaw Festival, Wigan, XENG (5/7/72)\\n    </a>\\n   </li>\\n   <li>\\n    <a href=\"dead-sets/72/5-10-72.txt\">\\n     Concertgebouw, Amsterdam, XNETHER (5/10/72)\\n    </a>\\n   </li>\\n   <li>\\n    <a href=\"dead-sets/72/5-11-72.txt\">\\n     Civic Hall, Rotterdam, XNETHER (5/11/72)\\n    </a>\\n   </li>\\n   <li>\\n    <a href=\"dead-sets/72/5-13-72.txt\">\\n     Fairgrounds, Lille, XFRA (5/13/72)\\n    </a>\\n   </li>\\n   <li>\\n    <a href=\"dead-sets/72/5-16-72.txt\">\\n     Radio Luxembourg, XLUX (5/16/72)\\n    </a>\\n   </li>\\n   <li>\\n    <a href=\"dead-sets/72/5-18-72.txt\">\\n     Deutsches Museum Halle, Munich, XWGER (5/18/72)\\n    </a>\\n   </li>\\n   <li>\\n    <a href=\"dead-sets/72/5-23-72.txt\">\\n     The Strand Lyceum, London, XENG (5/23/72)\\n    </a>\\n   </li>\\n   <li>\\n    <a href=\"dead-sets/72/5-24-72.txt\">\\n     The Strand Lyceum, London, XENG (5/24/72)\\n    </a>\\n   </li>\\n   <li>\\n    <a href=\"dead-sets/72/5-25-72.txt\">\\n     The Strand Lyceum, London, XENG (5/25/72)\\n    </a>\\n   </li>\\n   <li>\\n    <a href=\"dead-sets/72/5-26-72.txt\">\\n     The Strand Lyceum, London, XENG (5/26/72)\\n    </a>\\n   </li>\\n   <li>\\n    <a href=\"dead-sets/72/6-17-72.txt\">\\n     Hollywood Bowl, Hollywood, CA (6/17/72)\\n    </a>\\n   </li>\\n   <li>\\n    <a href=\"dead-sets/72/7-10-72.txt\">\\n     Roosevelt Stadium, Jersey City, NJ (7/10/72)\\n    </a>\\n   </li>\\n   <li>\\n    <a href=\"dead-sets/72/7-16-72.txt\">\\n     Dillon Stadium, Hartford, CT (7/16/72)\\n    </a>\\n   </li>\\n   <li>\\n    <a href=\"dead-sets/72/7-21-72.txt\">\\n     Paramount Northwest Theatre, Seattle, WA (7/21/72)\\n    </a>\\n   </li>\\n   <li>\\n    <a href=\"dead-sets/72/7-22-72.txt\">\\n     Paramount Northwest Theatre, Seattle, WA (7/22/72)\\n    </a>\\n   </li>\\n   <li>\\n    <a href=\"dead-sets/72/7-25-72.txt\">\\n     Paramount Theater, Portland, OR (7/25/72)\\n    </a>\\n   </li>\\n   <li>\\n    <a href=\"dead-sets/72/7-26-72.txt\">\\n     Paramount Theater, Portland, OR (7/26/72)\\n    </a>\\n   </li>\\n   <li>\\n    <a href=\"dead-sets/72/8-12-72.txt\">\\n     Memorial Auditorium, Sacramento, CA (8/12/72)\\n    </a>\\n   </li>\\n   <li>\\n    <a href=\"dead-sets/72/8-20-72.txt\">\\n     Civic Auditorium, San Jose, CA (8/20/72)\\n    </a>\\n   </li>\\n   <li>\\n    <a href=\"dead-sets/72/8-21-72.txt\">\\n     Berkeley Community Theatre, Berkeley, CA (8/21/72)\\n    </a>\\n   </li>\\n   <li>\\n    <a href=\"dead-sets/72/8-22-72.txt\">\\n     Berkeley Community Theatre, Berkeley, CA (8/22/72)\\n    </a>\\n   </li>\\n   <li>\\n    <a href=\"dead-sets/72/8-24-72.txt\">\\n     Berkeley Community Theatre, Berkeley, CA (8/24/72)\\n    </a>\\n   </li>\\n   <li>\\n    <a href=\"dead-sets/72/8-25-72.txt\">\\n     Berkeley Community Theatre, Berkeley, CA (8/25/72)\\n    </a>\\n   </li>\\n   <li>\\n    <a href=\"dead-sets/72/8-27-72.txt\">\\n     Old Renaissance Faire Grounds, Veneta, OR (8/27/72)\\n    </a>\\n   </li>\\n   <li>\\n    <a href=\"dead-sets/72/9-3-72.txt\">\\n     Folsom Field, University of Colorado, Boulder, CO (9/3/72)\\n    </a>\\n   </li>\\n   <li>\\n    <a href=\"dead-sets/72/9-9-72.txt\">\\n     Hollywood Palladium, Hollywood, CA (9/9/72)\\n    </a>\\n   </li>\\n   <li>\\n    <a href=\"dead-sets/72/9-10-72.txt\">\\n     Hollywood Palladium, Hollywood, CA (9/10/72)\\n    </a>\\n   </li>\\n   <li>\\n    <a href=\"dead-sets/72/9-15-72.txt\">\\n     Boston Music Hail, Boston, MA (9/15/72)\\n    </a>\\n   </li>\\n   <li>\\n    <a href=\"dead-sets/72/9-16-72.txt\">\\n     Boston Music Hail, Boston, MA (9/16/72)\\n    </a>\\n   </li>\\n   <li>\\n    <a href=\"dead-sets/72/9-17-72.txt\">\\n     Civic Center, Baltimore, MD (9/17/72)\\n    </a>\\n   </li>\\n   <li>\\n    <a href=\"dead-sets/72/9-19-72.txt\">\\n     Roosevelt Stadium, Jersey City, NJ (9/19/72)\\n    </a>\\n   </li>\\n   <li>\\n    <a href=\"dead-sets/72/9-21-72.txt\">\\n     The Spectrum, Philadelphia, PA (9/21/72)\\n    </a>\\n   </li>\\n   <li>\\n    <a href=\"dead-sets/72/9-23-72.txt\">\\n     The Palace Theater, Waterbury, CT (9/23/72)\\n    </a>\\n   </li>\\n   <li>\\n    <a href=\"dead-sets/72/9-24-72.txt\">\\n     The Palace Theater, Waterbury, CT (9/24/72)\\n    </a>\\n   </li>\\n   <li>\\n    <a href=\"dead-sets/72/9-26-72.txt\">\\n     Stanley Theatre, Jersey City, NJ (9/26/72)\\n    </a>\\n   </li>\\n   <li>\\n    <a href=\"dead-sets/72/9-27-72.txt\">\\n     Stanley Theatre, Jersey City, NJ (9/27/72)\\n    </a>\\n   </li>\\n   <li>\\n    <a href=\"dead-sets/72/9-28-72.txt\">\\n     Stanley Theatre, Jersey City, NJ (9/28/72)\\n    </a>\\n   </li>\\n   <li>\\n    <a href=\"dead-sets/72/9-30-72.txt\">\\n     American University, Washington, DC (9/30/72)\\n    </a>\\n   </li>\\n   <li>\\n    <a href=\"dead-sets/72/10-2-72.txt\">\\n     Civic Center Arena, Springfield, MA (10/2/72)\\n    </a>\\n   </li>\\n   <li>\\n    <a href=\"dead-sets/72/10-9-72.txt\">\\n     Winterland Arena, San Francisco, CA (10/9/72)\\n    </a>\\n   </li>\\n   <li>\\n    <a href=\"dead-sets/72/10-17-72.txt\">\\n     Fox Theatre, St. Louis, MO (10/17/72)\\n    </a>\\n   </li>\\n   <li>\\n    <a href=\"dead-sets/72/10-18-72.txt\">\\n     Fox Theatre, St. Louis, MO (10/18/72)\\n    </a>\\n   </li>\\n   <li>\\n    <a href=\"dead-sets/72/10-19-72.txt\">\\n     Fox Theatre, St. Louis, MO (10/19/72)\\n    </a>\\n   </li>\\n   <li>\\n    <a href=\"dead-sets/72/10-21-72.txt\">\\n     Vanderbilt University, Nashville, TN (10/21/72)\\n    </a>\\n   </li>\\n   <li>\\n    <a href=\"dead-sets/72/10-23-72.txt\">\\n     Performing Arts Center, Milwaukee, WI (10/23/72)\\n    </a>\\n   </li>\\n   <li>\\n    <a href=\"dead-sets/72/10-24-72.txt\">\\n     Performing Arts Center, Milwaukee, WI (10/24/72)\\n    </a>\\n   </li>\\n   <li>\\n    <a href=\"dead-sets/72/10-26-72.txt\">\\n     Music Mall, Cincinnati, OH (10/26/72)\\n    </a>\\n   </li>\\n   <li>\\n    <a href=\"dead-sets/72/10-27-72.txt\">\\n     Veterans Memorial Auditorium, Columbus, OH (10/27/72)\\n    </a>\\n   </li>\\n   <li>\\n    <a href=\"dead-sets/72/10-28-72.txt\">\\n     Public Hall, Cleveland, OH (10/28/72)\\n    </a>\\n   </li>\\n   <li>\\n    <a href=\"dead-sets/72/10-30-72.txt\">\\n     Ford Auditorium, Detroit, MI (10/30/72)\\n    </a>\\n   </li>\\n   <li>\\n    <a href=\"dead-sets/72/11-12-72.txt\">\\n     Memorial Hall, Kansas City, MO (11/12/72)\\n    </a>\\n   </li>\\n   <li>\\n    <a href=\"dead-sets/72/11-13-72.txt\">\\n     Memorial Hall, Kansas City, MO (11/13/72)\\n    </a>\\n   </li>\\n   <li>\\n    <a href=\"dead-sets/72/11-14-72.txt\">\\n     Oklahoma City Music Hall, Oklahoma City, OK (11/14/72)\\n    </a>\\n   </li>\\n   <li>\\n    <a href=\"dead-sets/72/11-15-72.txt\">\\n     Oklahoma City Music Hall, Oklahoma City, OK (11/15/72)\\n    </a>\\n   </li>\\n   <li>\\n    <a href=\"dead-sets/72/11-17-72.txt\">\\n     Wichita, KS (11/17/72)\\n    </a>\\n   </li>\\n   <li>\\n    <a href=\"dead-sets/72/11-18-72.txt\">\\n     Hofheinz Pavilion, Houston, TX (11/18/72)\\n    </a>\\n   </li>\\n   <li>\\n    <a href=\"dead-sets/72/11-19-72.txt\">\\n     Hofheinz Pavilion, Houston, TX (11/19/72)\\n    </a>\\n   </li>\\n   <li>\\n    <a href=\"dead-sets/72/11-22-72.txt\">\\n     Municipal Auditorium, Austin, TX (11/22/72)\\n    </a>\\n   </li>\\n   <li>\\n    <a href=\"dead-sets/72/11-24-72.txt\">\\n     Memorial Auditorium, Dallas, TX (11/24/72)\\n    </a>\\n   </li>\\n   <li>\\n    <a href=\"dead-sets/72/11-26-72.txt\">\\n     Civic Auditorium, SanAntonio, TX (11/26/72)\\n    </a>\\n   </li>\\n   <li>\\n    <a href=\"dead-sets/72/12-10-72.txt\">\\n     Winterland Arena, San Francisco, CA (12/10/72)\\n    </a>\\n   </li>\\n   <li>\\n    <a href=\"dead-sets/72/12-11-72.txt\">\\n     Winterland Arena, San Francisco, CA (12/11/72)\\n    </a>\\n   </li>\\n   <li>\\n    <a href=\"dead-sets/72/12-12-72.txt\">\\n     Winterland Arena, San Francisco, CA (12/12/72)\\n    </a>\\n   </li>\\n   <li>\\n    <a href=\"dead-sets/72/12-15-72.txt\">\\n     Long Beach Arena, Long Beach, CA (12/15/72)\\n    </a>\\n   </li>\\n   <li>\\n    <a href=\"dead-sets/72/12-31-72.txt\">\\n     Winterland Arena, San Francisco, CA (12/31/72)\\n    </a>\\n   </li>\\n  </ul>\\n </body>\\n</html>'"
       ]
      }
     ],
     "prompt_number": 11
    },
    {
     "cell_type": "code",
     "collapsed": false,
     "input": [
      "for link in soup.find_all('a'):\n",
      "    print(link.get('href'))"
     ],
     "language": "python",
     "metadata": {},
     "outputs": [
      {
       "output_type": "stream",
       "stream": "stdout",
       "text": [
        "dead-sets/72/1-2-72.txt\n",
        "None\n",
        "dead-sets/72/3-5-72.txt\n",
        "None\n",
        "dead-sets/72/3-21-72.txt\n",
        "None\n",
        "dead-sets/72/3-22-72.txt\n",
        "None\n",
        "dead-sets/72/3-23-72.txt\n",
        "None\n",
        "dead-sets/72/3-25-72.txt\n",
        "None\n",
        "dead-sets/72/3-26-72.txt\n",
        "None\n",
        "dead-sets/72/3-27-72.txt\n",
        "None\n",
        "dead-sets/72/3-28-72.txt\n",
        "None\n",
        "dead-sets/72/4-7-72.txt\n",
        "None\n",
        "dead-sets/72/4-8-72.txt\n",
        "None\n",
        "dead-sets/72/4-11-72.txt\n",
        "None\n",
        "dead-sets/72/4-14-72.txt\n",
        "None\n",
        "dead-sets/72/4-15-72.txt\n",
        "None\n",
        "dead-sets/72/4-16-72.txt\n",
        "None\n",
        "dead-sets/72/4-17-72.txt\n",
        "None\n",
        "dead-sets/72/4-21-72.txt\n",
        "None\n",
        "dead-sets/72/4-24-72.txt\n",
        "None\n",
        "dead-sets/72/4-26-72.txt\n",
        "None\n",
        "dead-sets/72/4-29-72.txt\n",
        "None\n",
        "dead-sets/72/5-3-72.txt\n",
        "None\n",
        "dead-sets/72/5-4-72.txt\n",
        "None\n",
        "dead-sets/72/5-7-72.txt\n",
        "None\n",
        "dead-sets/72/5-10-72.txt\n",
        "None\n",
        "dead-sets/72/5-11-72.txt\n",
        "None\n",
        "dead-sets/72/5-13-72.txt\n",
        "None\n",
        "dead-sets/72/5-16-72.txt\n",
        "None\n",
        "dead-sets/72/5-18-72.txt\n",
        "None\n",
        "dead-sets/72/5-23-72.txt\n",
        "None\n",
        "dead-sets/72/5-24-72.txt\n",
        "None\n",
        "dead-sets/72/5-25-72.txt\n",
        "None\n",
        "dead-sets/72/5-26-72.txt\n",
        "None\n",
        "dead-sets/72/6-17-72.txt\n",
        "None\n",
        "dead-sets/72/7-10-72.txt\n",
        "None\n",
        "dead-sets/72/7-16-72.txt\n",
        "None\n",
        "dead-sets/72/7-21-72.txt\n",
        "None\n",
        "dead-sets/72/7-22-72.txt\n",
        "None\n",
        "dead-sets/72/7-25-72.txt\n",
        "None\n",
        "dead-sets/72/7-26-72.txt\n",
        "None\n",
        "dead-sets/72/8-12-72.txt\n",
        "None\n",
        "dead-sets/72/8-20-72.txt\n",
        "None\n",
        "dead-sets/72/8-21-72.txt\n",
        "None\n",
        "dead-sets/72/8-22-72.txt\n",
        "None\n",
        "dead-sets/72/8-24-72.txt\n",
        "None\n",
        "dead-sets/72/8-25-72.txt\n",
        "None\n",
        "dead-sets/72/8-27-72.txt\n",
        "None\n",
        "dead-sets/72/9-3-72.txt\n",
        "None\n",
        "dead-sets/72/9-9-72.txt\n",
        "None\n",
        "dead-sets/72/9-10-72.txt\n",
        "None\n",
        "dead-sets/72/9-15-72.txt\n",
        "None\n",
        "dead-sets/72/9-16-72.txt\n",
        "None\n",
        "dead-sets/72/9-17-72.txt\n",
        "None\n",
        "dead-sets/72/9-19-72.txt\n",
        "None\n",
        "dead-sets/72/9-21-72.txt\n",
        "None\n",
        "dead-sets/72/9-23-72.txt\n",
        "None\n",
        "dead-sets/72/9-24-72.txt\n",
        "None\n",
        "dead-sets/72/9-26-72.txt\n",
        "None\n",
        "dead-sets/72/9-27-72.txt\n",
        "None\n",
        "dead-sets/72/9-28-72.txt\n",
        "None\n",
        "dead-sets/72/9-30-72.txt\n",
        "None\n",
        "dead-sets/72/10-2-72.txt\n",
        "None\n",
        "dead-sets/72/10-9-72.txt\n",
        "None\n",
        "dead-sets/72/10-17-72.txt\n",
        "None\n",
        "dead-sets/72/10-18-72.txt\n",
        "None\n",
        "dead-sets/72/10-19-72.txt\n",
        "None\n",
        "dead-sets/72/10-21-72.txt\n",
        "None\n",
        "dead-sets/72/10-23-72.txt\n",
        "None\n",
        "dead-sets/72/10-24-72.txt\n",
        "None\n",
        "dead-sets/72/10-26-72.txt\n",
        "None\n",
        "dead-sets/72/10-27-72.txt\n",
        "None\n",
        "dead-sets/72/10-28-72.txt\n",
        "None\n",
        "dead-sets/72/10-30-72.txt\n",
        "None\n",
        "dead-sets/72/11-12-72.txt\n",
        "None\n",
        "dead-sets/72/11-13-72.txt\n",
        "None\n",
        "dead-sets/72/11-14-72.txt\n",
        "None\n",
        "dead-sets/72/11-15-72.txt\n",
        "None\n",
        "dead-sets/72/11-17-72.txt\n",
        "None\n",
        "dead-sets/72/11-18-72.txt\n",
        "None\n",
        "dead-sets/72/11-19-72.txt\n",
        "None\n",
        "dead-sets/72/11-22-72.txt\n",
        "None\n",
        "dead-sets/72/11-24-72.txt\n",
        "None\n",
        "dead-sets/72/11-26-72.txt\n",
        "None\n",
        "dead-sets/72/12-10-72.txt\n",
        "None\n",
        "dead-sets/72/12-11-72.txt\n",
        "None\n",
        "dead-sets/72/12-12-72.txt\n",
        "None\n",
        "dead-sets/72/12-15-72.txt\n",
        "None\n",
        "dead-sets/72/12-31-72.txt\n",
        "None\n"
       ]
      }
     ],
     "prompt_number": 101
    },
    {
     "cell_type": "code",
     "collapsed": false,
     "input": [
      "data = {}\n",
      "for year in range(72,95):\n",
      "    print year\n",
      "    top_url = \"http://www.cs.cmu.edu/~./gdead/%d.html\"%year\n",
      "    raw_text = requests.get(top_url)\n",
      "    soup= BeautifulSoup(raw_text.text)\n",
      "    for show_link in soup.find_all('a'):\n",
      "        show_url = \"http://www.cs.cmu.edu/~./gdead/%s\"%show_link.get('href')\n",
      "        raw_text = requests.get(show_url)\n",
      "        soup2 = BeautifulSoup(raw_text.text)\n",
      "        lines = soup2.text.split('\\n')\n",
      "        date = lines[0].split('(')[1].split(')')[0]\n",
      "        uniquelines=[h for h in lines[2:] if h!='']\n",
      "        results={}\n",
      "        results['year']=\"19%0.2d\"%year\n",
      "        for h in uniquelines:\n",
      "            results[h]=1\n",
      "        data[show_link.get('href')]=results\n",
      "        \n",
      "        \n",
      "        \n",
      "    \n",
      "    "
     ],
     "language": "python",
     "metadata": {},
     "outputs": [
      {
       "output_type": "stream",
       "stream": "stdout",
       "text": [
        "72\n",
        "73"
       ]
      },
      {
       "output_type": "stream",
       "stream": "stdout",
       "text": [
        "\n",
        "74"
       ]
      },
      {
       "output_type": "stream",
       "stream": "stdout",
       "text": [
        "\n",
        "75"
       ]
      },
      {
       "output_type": "stream",
       "stream": "stdout",
       "text": [
        "\n",
        "76"
       ]
      },
      {
       "output_type": "stream",
       "stream": "stdout",
       "text": [
        "\n",
        "77"
       ]
      },
      {
       "output_type": "stream",
       "stream": "stdout",
       "text": [
        "\n",
        "78"
       ]
      },
      {
       "output_type": "stream",
       "stream": "stdout",
       "text": [
        "\n",
        "79"
       ]
      },
      {
       "output_type": "stream",
       "stream": "stdout",
       "text": [
        "\n",
        "80"
       ]
      },
      {
       "output_type": "stream",
       "stream": "stdout",
       "text": [
        "\n",
        "81"
       ]
      },
      {
       "output_type": "stream",
       "stream": "stdout",
       "text": [
        "\n",
        "82"
       ]
      },
      {
       "output_type": "stream",
       "stream": "stdout",
       "text": [
        "\n",
        "83"
       ]
      },
      {
       "output_type": "stream",
       "stream": "stdout",
       "text": [
        "\n",
        "84"
       ]
      },
      {
       "output_type": "stream",
       "stream": "stdout",
       "text": [
        "\n",
        "85"
       ]
      },
      {
       "output_type": "stream",
       "stream": "stdout",
       "text": [
        "\n",
        "86"
       ]
      },
      {
       "output_type": "stream",
       "stream": "stdout",
       "text": [
        "\n",
        "87"
       ]
      },
      {
       "output_type": "stream",
       "stream": "stdout",
       "text": [
        "\n",
        "88"
       ]
      },
      {
       "output_type": "stream",
       "stream": "stdout",
       "text": [
        "\n",
        "89"
       ]
      },
      {
       "output_type": "stream",
       "stream": "stdout",
       "text": [
        "\n",
        "90"
       ]
      },
      {
       "output_type": "stream",
       "stream": "stdout",
       "text": [
        "\n",
        "91"
       ]
      },
      {
       "output_type": "stream",
       "stream": "stdout",
       "text": [
        "\n",
        "92"
       ]
      },
      {
       "output_type": "stream",
       "stream": "stdout",
       "text": [
        "\n",
        "93"
       ]
      },
      {
       "output_type": "stream",
       "stream": "stdout",
       "text": [
        "\n"
       ]
      },
      {
       "ename": "IndexError",
       "evalue": "list index out of range",
       "output_type": "pyerr",
       "traceback": [
        "\u001b[1;31m---------------------------------------------------------------------------\u001b[0m\n\u001b[1;31mIndexError\u001b[0m                                Traceback (most recent call last)",
        "\u001b[1;32m<ipython-input-187-311abef4d4ce>\u001b[0m in \u001b[0;36m<module>\u001b[1;34m()\u001b[0m\n\u001b[0;32m     10\u001b[0m         \u001b[0msoup2\u001b[0m \u001b[1;33m=\u001b[0m \u001b[0mBeautifulSoup\u001b[0m\u001b[1;33m(\u001b[0m\u001b[0mraw_text\u001b[0m\u001b[1;33m.\u001b[0m\u001b[0mtext\u001b[0m\u001b[1;33m)\u001b[0m\u001b[1;33m\u001b[0m\u001b[0m\n\u001b[0;32m     11\u001b[0m         \u001b[0mlines\u001b[0m \u001b[1;33m=\u001b[0m \u001b[0msoup2\u001b[0m\u001b[1;33m.\u001b[0m\u001b[0mtext\u001b[0m\u001b[1;33m.\u001b[0m\u001b[0msplit\u001b[0m\u001b[1;33m(\u001b[0m\u001b[1;34m'\\n'\u001b[0m\u001b[1;33m)\u001b[0m\u001b[1;33m\u001b[0m\u001b[0m\n\u001b[1;32m---> 12\u001b[1;33m         \u001b[0mdate\u001b[0m \u001b[1;33m=\u001b[0m \u001b[0mlines\u001b[0m\u001b[1;33m[\u001b[0m\u001b[1;36m0\u001b[0m\u001b[1;33m]\u001b[0m\u001b[1;33m.\u001b[0m\u001b[0msplit\u001b[0m\u001b[1;33m(\u001b[0m\u001b[1;34m'('\u001b[0m\u001b[1;33m)\u001b[0m\u001b[1;33m[\u001b[0m\u001b[1;36m1\u001b[0m\u001b[1;33m]\u001b[0m\u001b[1;33m.\u001b[0m\u001b[0msplit\u001b[0m\u001b[1;33m(\u001b[0m\u001b[1;34m')'\u001b[0m\u001b[1;33m)\u001b[0m\u001b[1;33m[\u001b[0m\u001b[1;36m0\u001b[0m\u001b[1;33m]\u001b[0m\u001b[1;33m\u001b[0m\u001b[0m\n\u001b[0m\u001b[0;32m     13\u001b[0m         \u001b[0muniquelines\u001b[0m\u001b[1;33m=\u001b[0m\u001b[1;33m[\u001b[0m\u001b[0mh\u001b[0m \u001b[1;32mfor\u001b[0m \u001b[0mh\u001b[0m \u001b[1;32min\u001b[0m \u001b[0mlines\u001b[0m\u001b[1;33m[\u001b[0m\u001b[1;36m2\u001b[0m\u001b[1;33m:\u001b[0m\u001b[1;33m]\u001b[0m \u001b[1;32mif\u001b[0m \u001b[0mh\u001b[0m\u001b[1;33m!=\u001b[0m\u001b[1;34m''\u001b[0m\u001b[1;33m]\u001b[0m\u001b[1;33m\u001b[0m\u001b[0m\n\u001b[0;32m     14\u001b[0m         \u001b[0mresults\u001b[0m\u001b[1;33m=\u001b[0m\u001b[1;33m{\u001b[0m\u001b[1;33m}\u001b[0m\u001b[1;33m\u001b[0m\u001b[0m\n",
        "\u001b[1;31mIndexError\u001b[0m: list index out of range"
       ]
      }
     ],
     "prompt_number": 187
    },
    {
     "cell_type": "code",
     "collapsed": false,
     "input": [
      "import pandas as pd\n",
      "df=pd.DataFrame.from_dict(data.values())\n",
      "df['Around and Around']\n"
     ],
     "language": "python",
     "metadata": {},
     "outputs": [
      {
       "metadata": {},
       "output_type": "pyout",
       "prompt_number": 188,
       "text": [
        "0      1\n",
        "1      1\n",
        "2      1\n",
        "3    NaN\n",
        "4      1\n",
        "5    NaN\n",
        "6    NaN\n",
        "7    NaN\n",
        "8    NaN\n",
        "9    NaN\n",
        "10   NaN\n",
        "11   NaN\n",
        "12     1\n",
        "13     1\n",
        "14   NaN\n",
        "...\n",
        "1374   NaN\n",
        "1375   NaN\n",
        "1376     1\n",
        "1377     1\n",
        "1378   NaN\n",
        "1379   NaN\n",
        "1380   NaN\n",
        "1381     1\n",
        "1382   NaN\n",
        "1383   NaN\n",
        "1384   NaN\n",
        "1385   NaN\n",
        "1386   NaN\n",
        "1387   NaN\n",
        "1388   NaN\n",
        "Name: Around and Around, Length: 1389, dtype: float64"
       ]
      }
     ],
     "prompt_number": 188
    },
    {
     "cell_type": "code",
     "collapsed": false,
     "input": [
      "for column in df.columns:\n",
      "    if column != 'year':\n",
      "        df[column]=df[column].notnull()"
     ],
     "language": "python",
     "metadata": {},
     "outputs": [],
     "prompt_number": 189
    },
    {
     "cell_type": "code",
     "collapsed": false,
     "input": [
      "songnames = [h for h in df.columns if h!='year']"
     ],
     "language": "python",
     "metadata": {},
     "outputs": [],
     "prompt_number": 190
    },
    {
     "cell_type": "code",
     "collapsed": false,
     "input": [],
     "language": "python",
     "metadata": {},
     "outputs": [],
     "prompt_number": 192
    },
    {
     "cell_type": "code",
     "collapsed": false,
     "input": [
      "df.to_csv('/home/vagrant/notebooks/fall_2014_lessons/dataexplor06/GratefulDeadData.csv', index=False)"
     ],
     "language": "python",
     "metadata": {},
     "outputs": [],
     "prompt_number": 192
    },
    {
     "cell_type": "code",
     "collapsed": false,
     "input": [
      "data = df.groupby('year')"
     ],
     "language": "python",
     "metadata": {},
     "outputs": [],
     "prompt_number": 194
    },
    {
     "cell_type": "code",
     "collapsed": false,
     "input": [
      "data"
     ],
     "language": "python",
     "metadata": {},
     "outputs": [
      {
       "output_type": "stream",
       "stream": "stderr",
       "text": [
        "/usr/local/lib/python2.7/dist-packages/IPython/core/formatters.py:249: FormatterWarning: text/html formatter returned invalid type <class 'pandas.core.series.Series'> (expected (<type 'str'>, <type 'unicode'>)) for object: <pandas.core.groupby.DataFrameGroupBy object at 0x68824d0>\n",
        "  FormatterWarning\n"
       ]
      },
      {
       "metadata": {},
       "output_type": "pyout",
       "prompt_number": 195,
       "text": [
        "<pandas.core.groupby.DataFrameGroupBy object at 0x68824d0>"
       ]
      }
     ],
     "prompt_number": 195
    },
    {
     "cell_type": "code",
     "collapsed": false,
     "input": [
      "darkstars = data['Dark Star'].count()"
     ],
     "language": "python",
     "metadata": {},
     "outputs": [],
     "prompt_number": 219
    },
    {
     "cell_type": "code",
     "collapsed": false,
     "input": [
      "import matplotlib.pyplot as plt"
     ],
     "language": "python",
     "metadata": {},
     "outputs": [],
     "prompt_number": 220
    },
    {
     "cell_type": "code",
     "collapsed": false,
     "input": [
      "plt.plot(darkstars)"
     ],
     "language": "python",
     "metadata": {},
     "outputs": [
      {
       "metadata": {},
       "output_type": "pyout",
       "prompt_number": 221,
       "text": [
        "[<matplotlib.lines.Line2D at 0x7cf4c10>]"
       ]
      },
      {
       "metadata": {},
       "output_type": "display_data",
       "png": "[encoded data removed]",
       "text": [
        "<matplotlib.figure.Figure at 0x6fa4410>"
       ]
      }
     ],
     "prompt_number": 221
    },
    {
     "cell_type": "code",
     "collapsed": false,
     "input": [],
     "language": "python",
     "metadata": {},
     "outputs": []
    }
   ],
   "metadata": {}
  }
 ]
}