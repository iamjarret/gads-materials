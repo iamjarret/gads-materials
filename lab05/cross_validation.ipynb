{
 "metadata": {
  "name": "",
  "signature": "sha256:c6b2e47ac9a6ababa321cd214b2eba9d63f53cef30f7a683fec6de664b666983"
 },
 "nbformat": 3,
 "nbformat_minor": 0,
 "worksheets": [
  {
   "cells": [
    {
     "cell_type": "code",
     "collapsed": false,
     "input": [
      "import pandas as pd\n",
      "import numpy as np\n",
      "import matplotlib.pyplot as plt\n",
      "from sklearn.linear_model import LinearRegression, Ridge, Lasso\n",
      "from sklearn import cross_validation\n",
      "from sklearn.cross_validation import KFold\n",
      "from sklearn.cross_validation import train_test_split\n",
      "from sklearn.cross_validation import cross_val_score\n",
      "from sklearn.metrics import mean_squared_error"
     ],
     "language": "python",
     "metadata": {},
     "outputs": [],
     "prompt_number": 36
    },
    {
     "cell_type": "code",
     "collapsed": false,
     "input": [
      "df = pd.read_csv('./datasets/africa_ph.csv')\n",
      "predictors = ['ELEV', 'REF2', 'BSAN', 'LSTN', 'Infrared01', 'Infrared02', 'Infrared03', 'Infrared04', 'Infrared05']"
     ],
     "language": "python",
     "metadata": {},
     "outputs": [],
     "prompt_number": 9
    },
    {
     "cell_type": "markdown",
     "metadata": {},
     "source": [
      "### K-fold Cross-validation example"
     ]
    },
    {
     "cell_type": "code",
     "collapsed": false,
     "input": [
      "cv_errors = []\n",
      "for ncols in range(2, 6):\n",
      "    # each ncol corresponds to a polynomial model\n",
      "    X = df[predictors[0:ncols]].values\n",
      "    y = df[\"pH\"].values\n",
      "    kfold = KFold(len(df), n_folds=10)\n",
      "    mses = []\n",
      "    for train, test in kfold:\n",
      "        # each model is cross validated 10 times\n",
      "        Xtrain, ytrain, Xtest, ytest = X[train], y[train], X[test], y[test]   \n",
      "        model = LinearRegression()\n",
      "        model.fit(X, y)\n",
      "        ypred = model.predict(Xtest)\n",
      "        mses.append(mean_squared_error(ypred, ytest))\n",
      "    cv_errors.append(np.mean(mses))\n",
      "plt.plot(range(1,5), cv_errors)\n",
      "plt.xlabel(\"degree\")\n",
      "plt.ylabel(\"cv.error\")"
     ],
     "language": "python",
     "metadata": {},
     "outputs": [
      {
       "metadata": {},
       "output_type": "pyout",
       "prompt_number": 37,
       "text": [
        "<matplotlib.text.Text at 0x7f57ea897e90>"
       ]
      },
      {
       "metadata": {},
       "output_type": "display_data",
       "png": "[encoded data removed]",
       "text": [
        "<matplotlib.figure.Figure at 0x7f57eaa54a10>"
       ]
      }
     ],
     "prompt_number": 37
    },
    {
     "cell_type": "code",
     "collapsed": false,
     "input": [
      "model1 = LinearRegression(fit_intercept=True)\n",
      "model2 = Ridge()\n",
      "model3 = Lasso()"
     ],
     "language": "python",
     "metadata": {},
     "outputs": [],
     "prompt_number": 30
    },
    {
     "cell_type": "code",
     "collapsed": false,
     "input": [
      "#train_df, test_df = train_test_split(df, test_size = 0.2)\n",
      "score1 = cross_val_score(model1, df[predictors], df['pH'], n_jobs=5).mean()\n",
      "score2 = cross_val_score(model2, df[predictors], df['pH'], n_jobs=5).mean()\n",
      "score3 = cross_val_score(model3, df[predictors], df['pH'], n_jobs=5).mean()\n",
      "print score1, score2, score3"
     ],
     "language": "python",
     "metadata": {},
     "outputs": [
      {
       "output_type": "stream",
       "stream": "stdout",
       "text": [
        "0.131373269833 0.0281005913935 -0.0603715300621\n"
       ]
      }
     ],
     "prompt_number": 31
    },
    {
     "cell_type": "code",
     "collapsed": false,
     "input": [],
     "language": "python",
     "metadata": {},
     "outputs": []
    }
   ],
   "metadata": {}
  }
 ]
}