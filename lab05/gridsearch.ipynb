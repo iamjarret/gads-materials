{
 "metadata": {
  "name": "",
  "signature": "sha256:c0e0e880de66f81a2c679e166ef17c26f2f223f1868c60a524cd2414d37f2cf6"
 },
 "nbformat": 3,
 "nbformat_minor": 0,
 "worksheets": [
  {
   "cells": [
    {
     "cell_type": "code",
     "collapsed": false,
     "input": [
      "from sklearn.linear_model import LinearRegression\n",
      "from sklearn.metrics import explained_variance_score\n"
     ],
     "language": "python",
     "metadata": {},
     "outputs": [],
     "prompt_number": 37
    },
    {
     "cell_type": "code",
     "collapsed": false,
     "input": [
      "base_model = LinearRegression(fit_intercept=True)"
     ],
     "language": "python",
     "metadata": {},
     "outputs": [],
     "prompt_number": 26
    },
    {
     "cell_type": "code",
     "collapsed": false,
     "input": [
      "def custom_grid_search(data, y, models, num_cv = 5, variables=[], explained_vars=[], depth=0):\n",
      "    results = {h: [] for h in models.keys()}\n",
      "    for i in range(num_cv):\n",
      "        in_train = [np.random.random()>0.5 for i in range(data.shape[0])]\n",
      "        out_train = [not h for h in in_train]\n",
      "        train =data[in_train]\n",
      "        test = data[out_train]\n",
      "        for model in models:\n",
      "            full_model = models[model] + variables\n",
      "            base_model.fit(train[full_model],train[y])\n",
      "            results[model].append(explained_variance_score(test[y],base_model.predict(test[full_model])))\n",
      "    results = {h: average(results[h]) for h in results}\n",
      "    variable = sorted(results,key=results.get, reverse=True)[0]\n",
      "    explained_var = results[variable]\n",
      "    print depth\n",
      "    print variable, explained_var\n",
      "    del models[variable]\n",
      "    if len(explained_vars)>=2:\n",
      "        if (explained_vars[-1]-explained_vars[-2])<0.1 or len(variables)>5:\n",
      "            return (variables, explained_vars)\n",
      "    variables.append(variable)\n",
      "    explained_vars.append(explained_var)\n",
      "    return custom_grid_search(data,y, models=models, variables=variables, explained_vars=explained_vars, depth=depth+1)"
     ],
     "language": "python",
     "metadata": {},
     "outputs": [],
     "prompt_number": 66
    },
    {
     "cell_type": "code",
     "collapsed": false,
     "input": [
      "import pandas"
     ],
     "language": "python",
     "metadata": {},
     "outputs": [],
     "prompt_number": 54
    },
    {
     "cell_type": "code",
     "collapsed": false,
     "input": [
      "africa_data = pandas.read_csv('fall_2014_assignments/dataexplor02/africa_ph.csv')"
     ],
     "language": "python",
     "metadata": {},
     "outputs": [],
     "prompt_number": 17
    },
    {
     "cell_type": "code",
     "collapsed": false,
     "input": [
      "africa_data.columns"
     ],
     "language": "python",
     "metadata": {},
     "outputs": [
      {
       "metadata": {},
       "output_type": "pyout",
       "prompt_number": 18,
       "text": [
        "Index([u'Unnamed: 0', u'PIDN', u'pH', u'ELEV', u'REF2', u'BSAN', u'LSTN', u'Infrared01', u'Infrared02', u'Infrared03', u'Infrared04', u'Infrared05'], dtype=object)"
       ]
      }
     ],
     "prompt_number": 18
    },
    {
     "cell_type": "code",
     "collapsed": false,
     "input": [
      "del africa_data['Unnamed: 0']"
     ],
     "language": "python",
     "metadata": {},
     "outputs": [],
     "prompt_number": 20
    },
    {
     "cell_type": "raw",
     "metadata": {},
     "source": []
    },
    {
     "cell_type": "code",
     "collapsed": false,
     "input": [
      "del africa_data['PIDN']"
     ],
     "language": "python",
     "metadata": {},
     "outputs": [],
     "prompt_number": 22
    },
    {
     "cell_type": "code",
     "collapsed": false,
     "input": [
      "models = {}\n",
      "for h in africa_data.columns:\n",
      "    if h !='pH':\n",
      "        models[h]=[h]"
     ],
     "language": "python",
     "metadata": {},
     "outputs": [],
     "prompt_number": 67
    },
    {
     "cell_type": "code",
     "collapsed": false,
     "input": [
      "models"
     ],
     "language": "python",
     "metadata": {},
     "outputs": [
      {
       "metadata": {},
       "output_type": "pyout",
       "prompt_number": 68,
       "text": [
        "{'BSAN': ['BSAN'],\n",
        " 'ELEV': ['ELEV'],\n",
        " 'Infrared01': ['Infrared01'],\n",
        " 'Infrared02': ['Infrared02'],\n",
        " 'Infrared03': ['Infrared03'],\n",
        " 'Infrared04': ['Infrared04'],\n",
        " 'Infrared05': ['Infrared05'],\n",
        " 'LSTN': ['LSTN'],\n",
        " 'REF2': ['REF2']}"
       ]
      }
     ],
     "prompt_number": 68
    },
    {
     "cell_type": "code",
     "collapsed": false,
     "input": [
      "custom_grid_search(africa_data,'pH',models=models)"
     ],
     "language": "python",
     "metadata": {},
     "outputs": [
      {
       "output_type": "stream",
       "stream": "stdout",
       "text": [
        "0\n",
        "Infrared02 0.280522128525\n",
        "1"
       ]
      },
      {
       "output_type": "stream",
       "stream": "stdout",
       "text": [
        "\n",
        "Infrared03 0.415072216169\n",
        "2"
       ]
      },
      {
       "output_type": "stream",
       "stream": "stdout",
       "text": [
        "\n",
        "Infrared04 0.475485292369\n",
        "3"
       ]
      },
      {
       "output_type": "stream",
       "stream": "stdout",
       "text": [
        "\n",
        "BSAN 0.513018190416\n"
       ]
      },
      {
       "metadata": {},
       "output_type": "pyout",
       "prompt_number": 69,
       "text": [
        "(['Infrared02', 'Infrared03', 'Infrared04'],\n",
        " [0.28052212852455521, 0.41507221616881351, 0.47548529236859194])"
       ]
      }
     ],
     "prompt_number": 69
    },
    {
     "cell_type": "code",
     "collapsed": false,
     "input": [],
     "language": "python",
     "metadata": {},
     "outputs": []
    }
   ],
   "metadata": {}
  }
 ]
}